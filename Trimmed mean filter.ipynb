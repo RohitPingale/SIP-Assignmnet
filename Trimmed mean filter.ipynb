{
 "cells": [
  {
   "cell_type": "code",
   "execution_count": 1,
   "metadata": {},
   "outputs": [
    {
     "ename": "SyntaxError",
     "evalue": "invalid syntax (<ipython-input-1-6f3ed36df579>, line 25)",
     "output_type": "error",
     "traceback": [
      "\u001b[1;36m  File \u001b[1;32m\"<ipython-input-1-6f3ed36df579>\"\u001b[1;36m, line \u001b[1;32m25\u001b[0m\n\u001b[1;33m    self.k % 2 == 0:\u001b[0m\n\u001b[1;37m                    ^\u001b[0m\n\u001b[1;31mSyntaxError\u001b[0m\u001b[1;31m:\u001b[0m invalid syntax\n"
     ]
    }
   ],
   "source": [
    "class trimmedMeanFilter():\n",
    "    def __init__(self,K,image):\n",
    "        self.k = K\n",
    "        self.image = image\n",
    "    \n",
    "    def trimmedMean(self,array):\n",
    "        sortedArray = array.sort()\n",
    "        arrayLength = len(array)\n",
    "        trimmedArray = sortedArray[self.k:arrayLength-self.k]\n",
    "        trimmedMeanValue = np.mean(trimmedArray)/(arrayLength-self.k)\n",
    "        return trimmedMeanValue\n",
    "    \n",
    "    def imagePadding(band,paddingValue):\n",
    "        ##vertical Top padding\n",
    "        band = np.insert(band,0,band[0]*np.ones(paddingValue)[:,None],axis = 0)\n",
    "        ##vertical bottom padding\n",
    "        band =  np.insert(band,len(band),band[-1]*np.ones(paddingValue)[:,None],axis = 0)\n",
    "        ##Horizontal left padding\n",
    "        band = np.insert(band, 0, band[:,0]*np.ones(paddingValue)[:,None], axis=1)\n",
    "        ##Horizontal right padding\n",
    "        band = np.insert(band, len(band[0]), band[:,-1]*np.ones(paddingValue)[:,None], axis=1)\n",
    "        \n",
    "    def convolution(band):\n",
    "        try: \n",
    "            self.k % 2 == 0:\n",
    "            break\n",
    "        except ValueError:\n",
    "            print(\"K should be odd number.\")\n",
    "            \n",
    "        paddingValue = (self.k - 1)/2\n",
    "        imageBand = imagePadding(band,paddingValue)\n",
    "        \n",
    "        \n",
    "    def trimmedSmoothing(self):\n",
    "        img = cv2.imread(self.image)\n",
    "        for bandNumber in range(img.shape[2]):\n",
    "            bandarray = np.array([array[:,bandNumber] for array in img])\n",
    "            convolution(bandarray)"
   ]
  },
  {
   "cell_type": "code",
   "execution_count": null,
   "metadata": {},
   "outputs": [],
   "source": []
  }
 ],
 "metadata": {
  "kernelspec": {
   "display_name": "Python 3",
   "language": "python",
   "name": "python3"
  },
  "language_info": {
   "codemirror_mode": {
    "name": "ipython",
    "version": 3
   },
   "file_extension": ".py",
   "mimetype": "text/x-python",
   "name": "python",
   "nbconvert_exporter": "python",
   "pygments_lexer": "ipython3",
   "version": "3.9.0"
  }
 },
 "nbformat": 4,
 "nbformat_minor": 4
}
