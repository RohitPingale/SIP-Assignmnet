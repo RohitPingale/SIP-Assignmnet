{
 "cells": [
  {
   "cell_type": "code",
   "execution_count": 68,
   "metadata": {},
   "outputs": [
    {
     "name": "stdout",
     "output_type": "stream",
     "text": [
      "hheee\n",
      "hellooooooo\n",
      "(512, 512)\n"
     ]
    }
   ],
   "source": [
    "import numpy as np\n",
    "import cv2\n",
    "import math\n",
    "\n",
    "class trimmed_Mean:\n",
    "    def __init__(self,image):\n",
    "        self.image_location=image\n",
    "        print(\"hheee\")\n",
    "        \n",
    "    \n",
    "    def filter_size(self,image):\n",
    "        paddingValue = int((3 - 1)/2)  #values have been hardcoded so check properly\n",
    "        testarray =  np.array([array[:,0] for array in image])\n",
    "        #print(testarray.shape)\n",
    "        #print(testarray[0])\n",
    "        #print(testarray[1])\n",
    "        \n",
    "      \n",
    "        \n",
    "        imageBand = self.imagePadding(testarray,paddingValue)\n",
    "        \n",
    "        \n",
    "    def image_convolution(self,testarray):\n",
    "        height=testarray.shape[0]\n",
    "        width=testarray.shape[1]\n",
    "        mega_matrix=[]\n",
    "        for i in range(0, height - 3 + 1):\n",
    "            for j in range(0, width - 3 + 1):\n",
    "                mega_matrix.append(\n",
    "                    [\n",
    "                        [testarray[col][row] for row in range(j, j + 3)]\n",
    "                        for col in range(i, i + 3)\n",
    "                    ]\n",
    "                                   )\n",
    "        img_sampling = np.array(mega_matrix)\n",
    "        #print(img_sampling.shape)\n",
    "        self.image_convolution_step2(img_sampling)\n",
    "        \n",
    "    def image_convolution_step2(self,img_sampling):\n",
    "        #print(img_sampling)\n",
    "        #print(img_sampling[0])\n",
    "        #print(img_sampling[0][0])\n",
    "        #print(img_sampling[0])\n",
    "        print(\"hellooooooo\")\n",
    "        \n",
    "        #considering only one matrix from image\n",
    "        l1=[]\n",
    "        new_image=[]\n",
    "        l2=[]\n",
    "        \n",
    "        for k in range(0,262144):\n",
    "            for i in range(0,3):\n",
    "                for j in range(0,3):\n",
    "                    #print(img_sampling[0][i][j])\n",
    "                    l1.append(img_sampling[k][i][j])\n",
    "                    \n",
    "               \n",
    "            l1.sort()\n",
    "            #suppose here i am taking k as 2 (two highest element and 2 smallest element)\n",
    "            #total elements in filter=k*k (3*3=9)\n",
    "            mean=(1/(9-4)) #(4 elements to be deleted)\n",
    "            #print(\"mean\")\n",
    "            #print(mean)\n",
    "        \n",
    "            #print(l1)\n",
    "        \n",
    "            \n",
    "            for i in range(2,7):\n",
    "                l2.append(l1[i])\n",
    "            #print(l2)\n",
    "            l1.clear()\n",
    "        \n",
    "            sum=0\n",
    "            for i in range(0,len(l2)):\n",
    "                sum=sum+(mean*l2[i])\n",
    "            \n",
    "            sum=math.ceil(sum)\n",
    "            l2.clear()\n",
    "        \n",
    "            \n",
    "            new_image.append(sum)\n",
    "        #print(new_image)\n",
    "        new_transform=np.array(new_image).reshape(512,512)\n",
    "        #print(new_transform.shape)\n",
    "        cv2.imwrite(str('aniket'+'.'+'png'),new_transform)\n",
    "        \n",
    "        \n",
    "        \n",
    "        \n",
    "        \n",
    "        \n",
    "        \n",
    "        \n",
    "        \n",
    "        \n",
    "    def imagePadding(self,band,paddingValue):\n",
    "        ##vertical Top padding\n",
    "        band = np.insert(band,0,band[0]*np.ones(paddingValue)[:,None],axis = 0)\n",
    "        ##vertical bottom padding\n",
    "        band =  np.insert(band,len(band),band[-1]*np.ones(paddingValue)[:,None],axis = 0)\n",
    "        ##Horizontal left padding\n",
    "        band = np.insert(band, 0, band[:,0]*np.ones(paddingValue)[:,None], axis=1)\n",
    "        ##Horizontal right padding\n",
    "        band = np.insert(band, len(band[0]), band[:,-1]*np.ones(paddingValue)[:,None], axis=1)\n",
    "        #print(band.shape)\n",
    "        #np.set_printoptions(threshold=np.inf)\n",
    "        #print(band)\n",
    "        #print(type(band))\n",
    "        #print(band[0])\n",
    "        self.image_convolution(band)\n",
    "        \n",
    "    def Image_read(self):\n",
    "        img=cv2.imread(location.image_location,cv2.IMREAD_UNCHANGED)\n",
    "        dimensions=img.shape\n",
    "        #print(dimensions)\n",
    "        np.set_printoptions(threshold=np.inf)\n",
    "        #print(img[0])\n",
    "        self.filter_size(img)\n",
    "    \n",
    "        \n",
    "       \n",
    "        \n",
    "        \n",
    "location=trimmed_Mean(\"lenna.png\")\n",
    "location.Image_read()\n",
    "#print(location.image_location)\n",
    "\n",
    "\n"
   ]
  },
  {
   "cell_type": "markdown",
   "metadata": {},
   "source": []
  },
  {
   "cell_type": "code",
   "execution_count": 55,
   "metadata": {},
   "outputs": [
    {
     "name": "stdout",
     "output_type": "stream",
     "text": [
      "[1, 23, 4]\n",
      "[]\n"
     ]
    }
   ],
   "source": [
    "a=[1,23,4]\n",
    "print(a)\n",
    "a.clear()\n",
    "print(a)"
   ]
  },
  {
   "cell_type": "code",
   "execution_count": null,
   "metadata": {},
   "outputs": [],
   "source": []
  },
  {
   "cell_type": "code",
   "execution_count": null,
   "metadata": {},
   "outputs": [],
   "source": [
    "\n"
   ]
  },
  {
   "cell_type": "code",
   "execution_count": null,
   "metadata": {},
   "outputs": [],
   "source": []
  },
  {
   "cell_type": "code",
   "execution_count": 70,
   "metadata": {},
   "outputs": [
    {
     "name": "stdout",
     "output_type": "stream",
     "text": [
      "hello\n"
     ]
    }
   ],
   "source": []
  },
  {
   "cell_type": "code",
   "execution_count": null,
   "metadata": {},
   "outputs": [],
   "source": []
  },
  {
   "cell_type": "code",
   "execution_count": null,
   "metadata": {},
   "outputs": [],
   "source": []
  },
  {
   "cell_type": "code",
   "execution_count": null,
   "metadata": {},
   "outputs": [],
   "source": []
  },
  {
   "cell_type": "code",
   "execution_count": null,
   "metadata": {},
   "outputs": [],
   "source": []
  }
 ],
 "metadata": {
  "kernelspec": {
   "display_name": "Python 3",
   "language": "python",
   "name": "python3"
  },
  "language_info": {
   "codemirror_mode": {
    "name": "ipython",
    "version": 3
   },
   "file_extension": ".py",
   "mimetype": "text/x-python",
   "name": "python",
   "nbconvert_exporter": "python",
   "pygments_lexer": "ipython3",
   "version": "3.9.0"
  }
 },
 "nbformat": 4,
 "nbformat_minor": 4
}
