{
 "cells": [
  {
   "cell_type": "code",
   "execution_count": 20,
   "metadata": {},
   "outputs": [
    {
     "name": "stdout",
     "output_type": "stream",
     "text": [
      "SUm total is:4.166666666666666\n",
      "[0.024000000000000007, 0.032, 0.048000000000000015, 0.09600000000000003, 0.6, 0.09600000000000003, 0.048000000000000015, 0.032, 0.024000000000000007]\n",
      "SUm total is:1.0000000000000002\n"
     ]
    }
   ],
   "source": [
    "l1=[1,2,3,4,5,6,7,8,9]\n",
    "value_of_p=0.6\n",
    "\n",
    "\n",
    "for i in range(0,len(l1)):\n",
    "    if(i==4):\n",
    "        continue\n",
    "    else:\n",
    "        #print(\"---------\"+str(i)+\"------\"+str(l1[i]))\n",
    "        #print(abs(l1[4]-l1[i]))\n",
    "        l1[i]=1/abs(l1[i]-l1[4])\n",
    "\n",
    "#print(l1)\n",
    "center_pos=0\n",
    "if(len(l1)%2==0):\n",
    "    center_pos=len(l1)/2\n",
    "else:\n",
    "    center_pos=int((len(l1)-1)/2)\n",
    "    \n",
    "l1[center_pos]=0\n",
    "\n",
    "#print(l1)\n",
    "\n",
    "\n",
    "sum_total=sum(l1)\n",
    "\n",
    "#print(\"SUm total is:\"+str(sum_total))\n",
    "            \n",
    "for i in range(0,len(l1)):\n",
    "    if(i==4):\n",
    "        l1[i]=value_of_p\n",
    "    else:\n",
    "        l1[i]=((1-value_of_p)*(l1[i]/sum_total))\n",
    "\n",
    "        \n",
    "print(l1)\n",
    "#sum_total=sum(l1)\n",
    "#print(\"SUm total is:\"+str(sum_total))\n",
    "\n",
    "for i in range(0,len(l1)):\n",
    "    "
   ]
  },
  {
   "cell_type": "code",
   "execution_count": 6,
   "metadata": {},
   "outputs": [
    {
     "ename": "AttributeError",
     "evalue": "'list' object has no attribute 'np'",
     "output_type": "error",
     "traceback": [
      "\u001b[1;31m---------------------------------------------------------------------------\u001b[0m",
      "\u001b[1;31mAttributeError\u001b[0m                            Traceback (most recent call last)",
      "\u001b[1;32m<ipython-input-6-a87daeab52c2>\u001b[0m in \u001b[0;36m<module>\u001b[1;34m\u001b[0m\n\u001b[0;32m      8\u001b[0m \u001b[1;33m\u001b[0m\u001b[0m\n\u001b[0;32m      9\u001b[0m \u001b[0ma\u001b[0m\u001b[1;33m=\u001b[0m\u001b[1;33m[\u001b[0m\u001b[1;33m[\u001b[0m\u001b[1;36m1\u001b[0m\u001b[1;33m,\u001b[0m\u001b[1;36m2\u001b[0m\u001b[1;33m,\u001b[0m\u001b[1;36m3\u001b[0m\u001b[1;33m]\u001b[0m\u001b[1;33m,\u001b[0m\u001b[1;33m[\u001b[0m\u001b[1;36m4\u001b[0m\u001b[1;33m,\u001b[0m\u001b[1;36m5\u001b[0m\u001b[1;33m,\u001b[0m\u001b[1;36m6\u001b[0m\u001b[1;33m]\u001b[0m\u001b[1;33m,\u001b[0m\u001b[1;33m[\u001b[0m\u001b[1;36m7\u001b[0m\u001b[1;33m,\u001b[0m\u001b[1;36m8\u001b[0m\u001b[1;33m,\u001b[0m\u001b[1;36m9\u001b[0m\u001b[1;33m]\u001b[0m\u001b[1;33m]\u001b[0m\u001b[1;33m\u001b[0m\u001b[1;33m\u001b[0m\u001b[0m\n\u001b[1;32m---> 10\u001b[1;33m \u001b[0ma\u001b[0m\u001b[1;33m=\u001b[0m\u001b[0ma\u001b[0m\u001b[1;33m.\u001b[0m\u001b[0mnp\u001b[0m\u001b[1;33m.\u001b[0m\u001b[0marray\u001b[0m\u001b[1;33m(\u001b[0m\u001b[0ma\u001b[0m\u001b[1;33m)\u001b[0m\u001b[1;33m\u001b[0m\u001b[1;33m\u001b[0m\u001b[0m\n\u001b[0m\u001b[0;32m     11\u001b[0m \u001b[0mGradient_Inverse_Filter\u001b[0m\u001b[1;33m(\u001b[0m\u001b[0ma\u001b[0m\u001b[1;33m)\u001b[0m\u001b[1;33m\u001b[0m\u001b[1;33m\u001b[0m\u001b[0m\n",
      "\u001b[1;31mAttributeError\u001b[0m: 'list' object has no attribute 'np'"
     ]
    }
   ],
   "source": [
    "import numpy as np\n",
    "\n",
    "def Gradient_Inverse_Filter(array):\n",
    "        flattenarray = array.flatten()\n",
    "        \n",
    "        \n",
    "        \n",
    "        \n",
    "a=[[1,2,3],[4,5,6],[7,8,9]]\n",
    "a=np.array(a)\n",
    "Gradient_Inverse_Filter(a)"
   ]
  },
  {
   "cell_type": "code",
   "execution_count": null,
   "metadata": {},
   "outputs": [],
   "source": []
  }
 ],
 "metadata": {
  "kernelspec": {
   "display_name": "Python 3",
   "language": "python",
   "name": "python3"
  },
  "language_info": {
   "codemirror_mode": {
    "name": "ipython",
    "version": 3
   },
   "file_extension": ".py",
   "mimetype": "text/x-python",
   "name": "python",
   "nbconvert_exporter": "python",
   "pygments_lexer": "ipython3",
   "version": "3.9.0"
  }
 },
 "nbformat": 4,
 "nbformat_minor": 4
}
