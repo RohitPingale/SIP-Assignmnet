{
 "cells": [
  {
   "cell_type": "code",
   "execution_count": 27,
   "metadata": {},
   "outputs": [
    {
     "name": "stdout",
     "output_type": "stream",
     "text": [
      "hello\n",
      "[[116 123 124]\n",
      " [116 123 124]\n",
      " [116 123 124]]\n",
      "(260100, 3, 3)\n",
      "125\n"
     ]
    }
   ],
   "source": [
    "import numpy as np\n",
    "import cv2\n",
    "\n",
    "#print(\"HELLO\")\n",
    "image=cv2.imread(\"lenna.png\",cv2.IMREAD_UNCHANGED)\n",
    "testarray =  np.array([array[:,0] for array in image])\n",
    "height=image.shape[0]\n",
    "width=image.shape[1]\n",
    "#print(height)\n",
    "\n",
    "#converting of the image of one band into filter size matrices. (step 1 of convolution)\n",
    "\n",
    "mega_matrix=[]\n",
    "for i in range(0, height - 3 + 1):\n",
    "        for j in range(0, width - 3 + 1):\n",
    "            mega_matrix.append(\n",
    "                [\n",
    "                    [testarray[col][row] for row in range(j, j + 3)]\n",
    "                    for col in range(i, i + 3)\n",
    "                ]\n",
    "            )\n",
    "img_sampling = np.array(mega_matrix)\n",
    "\n",
    "print(\"hello\")\n",
    "#print(image)\n",
    "print(img_sampling[5])\n",
    "#print(testarray[0])\n",
    "\n",
    "\n",
    "#step two of convolution (Finding the least and highest to be deleted. total 4 elements)\n",
    "print(img_sampling.shape) #It consist of 3-d array where each a[i][][] represent one part of the image to be convolued.\n",
    "# size is (260100, 3, 3)\n",
    "final_img=[] #to store final image\n",
    "temparray=[]\n",
    "\n",
    "np.array(temparray.append(img_sampling[0]))\n",
    "print(temparray[0][0][0])\n",
    "\n",
    "\n"
   ]
  },
  {
   "cell_type": "code",
   "execution_count": 20,
   "metadata": {},
   "outputs": [
    {
     "name": "stdout",
     "output_type": "stream",
     "text": [
      "h\n"
     ]
    }
   ],
   "source": [
    "#np.set_printoptions(threshold=np.inf)\n",
    "#print(testarray)\n",
    "#print(\"h\")"
   ]
  },
  {
   "cell_type": "code",
   "execution_count": null,
   "metadata": {},
   "outputs": [],
   "source": []
  }
 ],
 "metadata": {
  "kernelspec": {
   "display_name": "Python 3",
   "language": "python",
   "name": "python3"
  },
  "language_info": {
   "codemirror_mode": {
    "name": "ipython",
    "version": 3
   },
   "file_extension": ".py",
   "mimetype": "text/x-python",
   "name": "python",
   "nbconvert_exporter": "python",
   "pygments_lexer": "ipython3",
   "version": "3.9.0"
  }
 },
 "nbformat": 4,
 "nbformat_minor": 4
}
